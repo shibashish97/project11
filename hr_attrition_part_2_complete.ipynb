{
 "cells": [
  {
   "cell_type": "markdown",
   "id": "ce24e166",
   "metadata": {},
   "source": [
    "# Read Dataset"
   ]
  },
  {
   "cell_type": "code",
   "execution_count": 1,
   "id": "b28362c0",
   "metadata": {},
   "outputs": [],
   "source": [
    "from warnings import filterwarnings\n",
    "filterwarnings(\"ignore\")"
   ]
  },
  {
   "cell_type": "code",
   "execution_count": 2,
   "id": "8cfb1518",
   "metadata": {},
   "outputs": [],
   "source": [
    "import pandas as pd\n",
    "A=pd.read_csv(\"C:/Users/shibashish nayak/Downloads/HR-Employee-Attrition-Table 1.csv\")"
   ]
  },
  {
   "cell_type": "markdown",
   "id": "867cb011",
   "metadata": {},
   "source": [
    "# Profile"
   ]
  },
  {
   "cell_type": "code",
   "execution_count": 3,
   "id": "5975b8f3",
   "metadata": {},
   "outputs": [
    {
     "data": {
      "text/html": [
       "<div>\n",
       "<style scoped>\n",
       "    .dataframe tbody tr th:only-of-type {\n",
       "        vertical-align: middle;\n",
       "    }\n",
       "\n",
       "    .dataframe tbody tr th {\n",
       "        vertical-align: top;\n",
       "    }\n",
       "\n",
       "    .dataframe thead th {\n",
       "        text-align: right;\n",
       "    }\n",
       "</style>\n",
       "<table border=\"1\" class=\"dataframe\">\n",
       "  <thead>\n",
       "    <tr style=\"text-align: right;\">\n",
       "      <th></th>\n",
       "      <th>Attrition</th>\n",
       "      <th>Age</th>\n",
       "      <th>BusinessTravel</th>\n",
       "      <th>DailyRate</th>\n",
       "      <th>Department</th>\n",
       "      <th>DistanceFromHome</th>\n",
       "      <th>Education</th>\n",
       "      <th>EducationField</th>\n",
       "      <th>EmployeeCount</th>\n",
       "      <th>EmployeeNumber</th>\n",
       "      <th>...</th>\n",
       "      <th>RelationshipSatisfaction</th>\n",
       "      <th>StandardHours</th>\n",
       "      <th>StockOptionLevel</th>\n",
       "      <th>TotalWorkingYears</th>\n",
       "      <th>TrainingTimesLastYear</th>\n",
       "      <th>WorkLifeBalance</th>\n",
       "      <th>YearsAtCompany</th>\n",
       "      <th>YearsInCurrentRole</th>\n",
       "      <th>YearsSinceLastPromotion</th>\n",
       "      <th>YearsWithCurrManager</th>\n",
       "    </tr>\n",
       "  </thead>\n",
       "  <tbody>\n",
       "    <tr>\n",
       "      <th>0</th>\n",
       "      <td>1</td>\n",
       "      <td>41</td>\n",
       "      <td>Travel_Rarely</td>\n",
       "      <td>1102</td>\n",
       "      <td>Sales</td>\n",
       "      <td>1</td>\n",
       "      <td>2</td>\n",
       "      <td>Life Sciences</td>\n",
       "      <td>1</td>\n",
       "      <td>1</td>\n",
       "      <td>...</td>\n",
       "      <td>1</td>\n",
       "      <td>80</td>\n",
       "      <td>0</td>\n",
       "      <td>8</td>\n",
       "      <td>0</td>\n",
       "      <td>1</td>\n",
       "      <td>6</td>\n",
       "      <td>4</td>\n",
       "      <td>0</td>\n",
       "      <td>5</td>\n",
       "    </tr>\n",
       "    <tr>\n",
       "      <th>1</th>\n",
       "      <td>0</td>\n",
       "      <td>49</td>\n",
       "      <td>Travel_Frequently</td>\n",
       "      <td>279</td>\n",
       "      <td>Research &amp; Development</td>\n",
       "      <td>8</td>\n",
       "      <td>1</td>\n",
       "      <td>Life Sciences</td>\n",
       "      <td>1</td>\n",
       "      <td>2</td>\n",
       "      <td>...</td>\n",
       "      <td>4</td>\n",
       "      <td>80</td>\n",
       "      <td>1</td>\n",
       "      <td>10</td>\n",
       "      <td>3</td>\n",
       "      <td>3</td>\n",
       "      <td>10</td>\n",
       "      <td>7</td>\n",
       "      <td>1</td>\n",
       "      <td>7</td>\n",
       "    </tr>\n",
       "    <tr>\n",
       "      <th>2</th>\n",
       "      <td>1</td>\n",
       "      <td>37</td>\n",
       "      <td>Travel_Rarely</td>\n",
       "      <td>1373</td>\n",
       "      <td>Research &amp; Development</td>\n",
       "      <td>2</td>\n",
       "      <td>2</td>\n",
       "      <td>Other</td>\n",
       "      <td>1</td>\n",
       "      <td>4</td>\n",
       "      <td>...</td>\n",
       "      <td>2</td>\n",
       "      <td>80</td>\n",
       "      <td>0</td>\n",
       "      <td>7</td>\n",
       "      <td>3</td>\n",
       "      <td>3</td>\n",
       "      <td>0</td>\n",
       "      <td>0</td>\n",
       "      <td>0</td>\n",
       "      <td>0</td>\n",
       "    </tr>\n",
       "    <tr>\n",
       "      <th>3</th>\n",
       "      <td>0</td>\n",
       "      <td>33</td>\n",
       "      <td>Travel_Frequently</td>\n",
       "      <td>1392</td>\n",
       "      <td>Research &amp; Development</td>\n",
       "      <td>3</td>\n",
       "      <td>4</td>\n",
       "      <td>Life Sciences</td>\n",
       "      <td>1</td>\n",
       "      <td>5</td>\n",
       "      <td>...</td>\n",
       "      <td>3</td>\n",
       "      <td>80</td>\n",
       "      <td>0</td>\n",
       "      <td>8</td>\n",
       "      <td>3</td>\n",
       "      <td>3</td>\n",
       "      <td>8</td>\n",
       "      <td>7</td>\n",
       "      <td>3</td>\n",
       "      <td>0</td>\n",
       "    </tr>\n",
       "    <tr>\n",
       "      <th>4</th>\n",
       "      <td>0</td>\n",
       "      <td>27</td>\n",
       "      <td>Travel_Rarely</td>\n",
       "      <td>591</td>\n",
       "      <td>Research &amp; Development</td>\n",
       "      <td>2</td>\n",
       "      <td>1</td>\n",
       "      <td>Medical</td>\n",
       "      <td>1</td>\n",
       "      <td>7</td>\n",
       "      <td>...</td>\n",
       "      <td>4</td>\n",
       "      <td>80</td>\n",
       "      <td>1</td>\n",
       "      <td>6</td>\n",
       "      <td>3</td>\n",
       "      <td>3</td>\n",
       "      <td>2</td>\n",
       "      <td>2</td>\n",
       "      <td>2</td>\n",
       "      <td>2</td>\n",
       "    </tr>\n",
       "  </tbody>\n",
       "</table>\n",
       "<p>5 rows × 35 columns</p>\n",
       "</div>"
      ],
      "text/plain": [
       "   Attrition  Age     BusinessTravel  DailyRate              Department  \\\n",
       "0          1   41      Travel_Rarely       1102                   Sales   \n",
       "1          0   49  Travel_Frequently        279  Research & Development   \n",
       "2          1   37      Travel_Rarely       1373  Research & Development   \n",
       "3          0   33  Travel_Frequently       1392  Research & Development   \n",
       "4          0   27      Travel_Rarely        591  Research & Development   \n",
       "\n",
       "   DistanceFromHome  Education EducationField  EmployeeCount  EmployeeNumber  \\\n",
       "0                 1          2  Life Sciences              1               1   \n",
       "1                 8          1  Life Sciences              1               2   \n",
       "2                 2          2          Other              1               4   \n",
       "3                 3          4  Life Sciences              1               5   \n",
       "4                 2          1        Medical              1               7   \n",
       "\n",
       "   ...  RelationshipSatisfaction StandardHours  StockOptionLevel  \\\n",
       "0  ...                         1            80                 0   \n",
       "1  ...                         4            80                 1   \n",
       "2  ...                         2            80                 0   \n",
       "3  ...                         3            80                 0   \n",
       "4  ...                         4            80                 1   \n",
       "\n",
       "   TotalWorkingYears  TrainingTimesLastYear WorkLifeBalance  YearsAtCompany  \\\n",
       "0                  8                      0               1               6   \n",
       "1                 10                      3               3              10   \n",
       "2                  7                      3               3               0   \n",
       "3                  8                      3               3               8   \n",
       "4                  6                      3               3               2   \n",
       "\n",
       "  YearsInCurrentRole  YearsSinceLastPromotion  YearsWithCurrManager  \n",
       "0                  4                        0                     5  \n",
       "1                  7                        1                     7  \n",
       "2                  0                        0                     0  \n",
       "3                  7                        3                     0  \n",
       "4                  2                        2                     2  \n",
       "\n",
       "[5 rows x 35 columns]"
      ]
     },
     "execution_count": 3,
     "metadata": {},
     "output_type": "execute_result"
    }
   ],
   "source": [
    "A.head()"
   ]
  },
  {
   "cell_type": "code",
   "execution_count": 4,
   "id": "7dd87b87",
   "metadata": {},
   "outputs": [
    {
     "name": "stdout",
     "output_type": "stream",
     "text": [
      "<class 'pandas.core.frame.DataFrame'>\n",
      "RangeIndex: 1470 entries, 0 to 1469\n",
      "Data columns (total 35 columns):\n",
      " #   Column                    Non-Null Count  Dtype \n",
      "---  ------                    --------------  ----- \n",
      " 0   Attrition                 1470 non-null   int64 \n",
      " 1   Age                       1470 non-null   int64 \n",
      " 2   BusinessTravel            1470 non-null   object\n",
      " 3   DailyRate                 1470 non-null   int64 \n",
      " 4   Department                1470 non-null   object\n",
      " 5   DistanceFromHome          1470 non-null   int64 \n",
      " 6   Education                 1470 non-null   int64 \n",
      " 7   EducationField            1470 non-null   object\n",
      " 8   EmployeeCount             1470 non-null   int64 \n",
      " 9   EmployeeNumber            1470 non-null   int64 \n",
      " 10  EnvironmentSatisfaction   1470 non-null   int64 \n",
      " 11  Gender                    1470 non-null   object\n",
      " 12  HourlyRate                1470 non-null   int64 \n",
      " 13  JobInvolvement            1470 non-null   int64 \n",
      " 14  JobLevel                  1470 non-null   int64 \n",
      " 15  JobRole                   1470 non-null   object\n",
      " 16  JobSatisfaction           1470 non-null   int64 \n",
      " 17  MaritalStatus             1470 non-null   object\n",
      " 18  MonthlyIncome             1470 non-null   int64 \n",
      " 19  MonthlyRate               1470 non-null   int64 \n",
      " 20  NumCompaniesWorked        1470 non-null   int64 \n",
      " 21  Over18                    1470 non-null   object\n",
      " 22  OverTime                  1470 non-null   object\n",
      " 23  PercentSalaryHike         1470 non-null   int64 \n",
      " 24  PerformanceRating         1470 non-null   int64 \n",
      " 25  RelationshipSatisfaction  1470 non-null   int64 \n",
      " 26  StandardHours             1470 non-null   int64 \n",
      " 27  StockOptionLevel          1470 non-null   int64 \n",
      " 28  TotalWorkingYears         1470 non-null   int64 \n",
      " 29  TrainingTimesLastYear     1470 non-null   int64 \n",
      " 30  WorkLifeBalance           1470 non-null   int64 \n",
      " 31  YearsAtCompany            1470 non-null   int64 \n",
      " 32  YearsInCurrentRole        1470 non-null   int64 \n",
      " 33  YearsSinceLastPromotion   1470 non-null   int64 \n",
      " 34  YearsWithCurrManager      1470 non-null   int64 \n",
      "dtypes: int64(27), object(8)\n",
      "memory usage: 402.1+ KB\n"
     ]
    }
   ],
   "source": [
    "A.info()"
   ]
  },
  {
   "cell_type": "markdown",
   "id": "c93ed0e5",
   "metadata": {},
   "source": [
    "# Missing Data Treatment"
   ]
  },
  {
   "cell_type": "code",
   "execution_count": 5,
   "id": "280d0da9",
   "metadata": {},
   "outputs": [
    {
     "data": {
      "text/plain": [
       "Attrition                   0\n",
       "Age                         0\n",
       "BusinessTravel              0\n",
       "DailyRate                   0\n",
       "Department                  0\n",
       "DistanceFromHome            0\n",
       "Education                   0\n",
       "EducationField              0\n",
       "EmployeeCount               0\n",
       "EmployeeNumber              0\n",
       "EnvironmentSatisfaction     0\n",
       "Gender                      0\n",
       "HourlyRate                  0\n",
       "JobInvolvement              0\n",
       "JobLevel                    0\n",
       "JobRole                     0\n",
       "JobSatisfaction             0\n",
       "MaritalStatus               0\n",
       "MonthlyIncome               0\n",
       "MonthlyRate                 0\n",
       "NumCompaniesWorked          0\n",
       "Over18                      0\n",
       "OverTime                    0\n",
       "PercentSalaryHike           0\n",
       "PerformanceRating           0\n",
       "RelationshipSatisfaction    0\n",
       "StandardHours               0\n",
       "StockOptionLevel            0\n",
       "TotalWorkingYears           0\n",
       "TrainingTimesLastYear       0\n",
       "WorkLifeBalance             0\n",
       "YearsAtCompany              0\n",
       "YearsInCurrentRole          0\n",
       "YearsSinceLastPromotion     0\n",
       "YearsWithCurrManager        0\n",
       "dtype: int64"
      ]
     },
     "execution_count": 5,
     "metadata": {},
     "output_type": "execute_result"
    }
   ],
   "source": [
    "A.isna().sum()"
   ]
  },
  {
   "cell_type": "code",
   "execution_count": 6,
   "id": "0d636e9b",
   "metadata": {},
   "outputs": [],
   "source": [
    "Y=A[[\"Attrition\"]]\n",
    "X=A.drop(labels=[\"Attrition\"],axis=1)"
   ]
  },
  {
   "cell_type": "markdown",
   "id": "084f877f",
   "metadata": {},
   "source": [
    "# EDA"
   ]
  },
  {
   "cell_type": "code",
   "execution_count": 7,
   "id": "3aa65a40",
   "metadata": {},
   "outputs": [],
   "source": [
    "cat=[]\n",
    "con=[]\n",
    "for i in X.columns:\n",
    "    if(X[i].dtypes==\"object\"):\n",
    "        cat.append(i)\n",
    "    else:\n",
    "        con.append(i)"
   ]
  },
  {
   "cell_type": "code",
   "execution_count": 8,
   "id": "f799bfec",
   "metadata": {},
   "outputs": [
    {
     "data": {
      "text/plain": [
       "['BusinessTravel',\n",
       " 'Department',\n",
       " 'EducationField',\n",
       " 'Gender',\n",
       " 'JobRole',\n",
       " 'MaritalStatus',\n",
       " 'Over18',\n",
       " 'OverTime']"
      ]
     },
     "execution_count": 8,
     "metadata": {},
     "output_type": "execute_result"
    }
   ],
   "source": [
    "cat"
   ]
  },
  {
   "cell_type": "code",
   "execution_count": 9,
   "id": "8f10b12c",
   "metadata": {},
   "outputs": [
    {
     "data": {
      "text/plain": [
       "['Age',\n",
       " 'DailyRate',\n",
       " 'DistanceFromHome',\n",
       " 'Education',\n",
       " 'EmployeeCount',\n",
       " 'EmployeeNumber',\n",
       " 'EnvironmentSatisfaction',\n",
       " 'HourlyRate',\n",
       " 'JobInvolvement',\n",
       " 'JobLevel',\n",
       " 'JobSatisfaction',\n",
       " 'MonthlyIncome',\n",
       " 'MonthlyRate',\n",
       " 'NumCompaniesWorked',\n",
       " 'PercentSalaryHike',\n",
       " 'PerformanceRating',\n",
       " 'RelationshipSatisfaction',\n",
       " 'StandardHours',\n",
       " 'StockOptionLevel',\n",
       " 'TotalWorkingYears',\n",
       " 'TrainingTimesLastYear',\n",
       " 'WorkLifeBalance',\n",
       " 'YearsAtCompany',\n",
       " 'YearsInCurrentRole',\n",
       " 'YearsSinceLastPromotion',\n",
       " 'YearsWithCurrManager']"
      ]
     },
     "execution_count": 9,
     "metadata": {},
     "output_type": "execute_result"
    }
   ],
   "source": [
    "con"
   ]
  },
  {
   "cell_type": "code",
   "execution_count": 10,
   "id": "dbe13c7e",
   "metadata": {},
   "outputs": [
    {
     "data": {
      "text/html": [
       "<div>\n",
       "<style scoped>\n",
       "    .dataframe tbody tr th:only-of-type {\n",
       "        vertical-align: middle;\n",
       "    }\n",
       "\n",
       "    .dataframe tbody tr th {\n",
       "        vertical-align: top;\n",
       "    }\n",
       "\n",
       "    .dataframe thead th {\n",
       "        text-align: right;\n",
       "    }\n",
       "</style>\n",
       "<table border=\"1\" class=\"dataframe\">\n",
       "  <thead>\n",
       "    <tr style=\"text-align: right;\">\n",
       "      <th></th>\n",
       "      <th>BusinessTravel</th>\n",
       "      <th>Department</th>\n",
       "      <th>EducationField</th>\n",
       "      <th>Gender</th>\n",
       "      <th>JobRole</th>\n",
       "      <th>MaritalStatus</th>\n",
       "      <th>Over18</th>\n",
       "      <th>OverTime</th>\n",
       "    </tr>\n",
       "  </thead>\n",
       "  <tbody>\n",
       "    <tr>\n",
       "      <th>0</th>\n",
       "      <td>Travel_Rarely</td>\n",
       "      <td>Sales</td>\n",
       "      <td>Life Sciences</td>\n",
       "      <td>Female</td>\n",
       "      <td>Sales Executive</td>\n",
       "      <td>Single</td>\n",
       "      <td>Y</td>\n",
       "      <td>Yes</td>\n",
       "    </tr>\n",
       "    <tr>\n",
       "      <th>1</th>\n",
       "      <td>Travel_Frequently</td>\n",
       "      <td>Research &amp; Development</td>\n",
       "      <td>Life Sciences</td>\n",
       "      <td>Male</td>\n",
       "      <td>Research Scientist</td>\n",
       "      <td>Married</td>\n",
       "      <td>Y</td>\n",
       "      <td>No</td>\n",
       "    </tr>\n",
       "    <tr>\n",
       "      <th>2</th>\n",
       "      <td>Travel_Rarely</td>\n",
       "      <td>Research &amp; Development</td>\n",
       "      <td>Other</td>\n",
       "      <td>Male</td>\n",
       "      <td>Laboratory Technician</td>\n",
       "      <td>Single</td>\n",
       "      <td>Y</td>\n",
       "      <td>Yes</td>\n",
       "    </tr>\n",
       "  </tbody>\n",
       "</table>\n",
       "</div>"
      ],
      "text/plain": [
       "      BusinessTravel              Department EducationField  Gender  \\\n",
       "0      Travel_Rarely                   Sales  Life Sciences  Female   \n",
       "1  Travel_Frequently  Research & Development  Life Sciences    Male   \n",
       "2      Travel_Rarely  Research & Development          Other    Male   \n",
       "\n",
       "                 JobRole MaritalStatus Over18 OverTime  \n",
       "0        Sales Executive        Single      Y      Yes  \n",
       "1     Research Scientist       Married      Y       No  \n",
       "2  Laboratory Technician        Single      Y      Yes  "
      ]
     },
     "execution_count": 10,
     "metadata": {},
     "output_type": "execute_result"
    }
   ],
   "source": [
    "X[cat].head(3)"
   ]
  },
  {
   "cell_type": "code",
   "execution_count": 11,
   "id": "b3b4808b",
   "metadata": {},
   "outputs": [
    {
     "data": {
      "text/html": [
       "<div>\n",
       "<style scoped>\n",
       "    .dataframe tbody tr th:only-of-type {\n",
       "        vertical-align: middle;\n",
       "    }\n",
       "\n",
       "    .dataframe tbody tr th {\n",
       "        vertical-align: top;\n",
       "    }\n",
       "\n",
       "    .dataframe thead th {\n",
       "        text-align: right;\n",
       "    }\n",
       "</style>\n",
       "<table border=\"1\" class=\"dataframe\">\n",
       "  <thead>\n",
       "    <tr style=\"text-align: right;\">\n",
       "      <th></th>\n",
       "      <th>Age</th>\n",
       "      <th>DailyRate</th>\n",
       "      <th>DistanceFromHome</th>\n",
       "      <th>Education</th>\n",
       "      <th>EmployeeCount</th>\n",
       "      <th>EmployeeNumber</th>\n",
       "      <th>EnvironmentSatisfaction</th>\n",
       "      <th>HourlyRate</th>\n",
       "      <th>JobInvolvement</th>\n",
       "      <th>JobLevel</th>\n",
       "      <th>...</th>\n",
       "      <th>RelationshipSatisfaction</th>\n",
       "      <th>StandardHours</th>\n",
       "      <th>StockOptionLevel</th>\n",
       "      <th>TotalWorkingYears</th>\n",
       "      <th>TrainingTimesLastYear</th>\n",
       "      <th>WorkLifeBalance</th>\n",
       "      <th>YearsAtCompany</th>\n",
       "      <th>YearsInCurrentRole</th>\n",
       "      <th>YearsSinceLastPromotion</th>\n",
       "      <th>YearsWithCurrManager</th>\n",
       "    </tr>\n",
       "  </thead>\n",
       "  <tbody>\n",
       "    <tr>\n",
       "      <th>0</th>\n",
       "      <td>41</td>\n",
       "      <td>1102</td>\n",
       "      <td>1</td>\n",
       "      <td>2</td>\n",
       "      <td>1</td>\n",
       "      <td>1</td>\n",
       "      <td>2</td>\n",
       "      <td>94</td>\n",
       "      <td>3</td>\n",
       "      <td>2</td>\n",
       "      <td>...</td>\n",
       "      <td>1</td>\n",
       "      <td>80</td>\n",
       "      <td>0</td>\n",
       "      <td>8</td>\n",
       "      <td>0</td>\n",
       "      <td>1</td>\n",
       "      <td>6</td>\n",
       "      <td>4</td>\n",
       "      <td>0</td>\n",
       "      <td>5</td>\n",
       "    </tr>\n",
       "    <tr>\n",
       "      <th>1</th>\n",
       "      <td>49</td>\n",
       "      <td>279</td>\n",
       "      <td>8</td>\n",
       "      <td>1</td>\n",
       "      <td>1</td>\n",
       "      <td>2</td>\n",
       "      <td>3</td>\n",
       "      <td>61</td>\n",
       "      <td>2</td>\n",
       "      <td>2</td>\n",
       "      <td>...</td>\n",
       "      <td>4</td>\n",
       "      <td>80</td>\n",
       "      <td>1</td>\n",
       "      <td>10</td>\n",
       "      <td>3</td>\n",
       "      <td>3</td>\n",
       "      <td>10</td>\n",
       "      <td>7</td>\n",
       "      <td>1</td>\n",
       "      <td>7</td>\n",
       "    </tr>\n",
       "    <tr>\n",
       "      <th>2</th>\n",
       "      <td>37</td>\n",
       "      <td>1373</td>\n",
       "      <td>2</td>\n",
       "      <td>2</td>\n",
       "      <td>1</td>\n",
       "      <td>4</td>\n",
       "      <td>4</td>\n",
       "      <td>92</td>\n",
       "      <td>2</td>\n",
       "      <td>1</td>\n",
       "      <td>...</td>\n",
       "      <td>2</td>\n",
       "      <td>80</td>\n",
       "      <td>0</td>\n",
       "      <td>7</td>\n",
       "      <td>3</td>\n",
       "      <td>3</td>\n",
       "      <td>0</td>\n",
       "      <td>0</td>\n",
       "      <td>0</td>\n",
       "      <td>0</td>\n",
       "    </tr>\n",
       "  </tbody>\n",
       "</table>\n",
       "<p>3 rows × 26 columns</p>\n",
       "</div>"
      ],
      "text/plain": [
       "   Age  DailyRate  DistanceFromHome  Education  EmployeeCount  EmployeeNumber  \\\n",
       "0   41       1102                 1          2              1               1   \n",
       "1   49        279                 8          1              1               2   \n",
       "2   37       1373                 2          2              1               4   \n",
       "\n",
       "   EnvironmentSatisfaction  HourlyRate  JobInvolvement  JobLevel  ...  \\\n",
       "0                        2          94               3         2  ...   \n",
       "1                        3          61               2         2  ...   \n",
       "2                        4          92               2         1  ...   \n",
       "\n",
       "   RelationshipSatisfaction  StandardHours  StockOptionLevel  \\\n",
       "0                         1             80                 0   \n",
       "1                         4             80                 1   \n",
       "2                         2             80                 0   \n",
       "\n",
       "   TotalWorkingYears  TrainingTimesLastYear  WorkLifeBalance  YearsAtCompany  \\\n",
       "0                  8                      0                1               6   \n",
       "1                 10                      3                3              10   \n",
       "2                  7                      3                3               0   \n",
       "\n",
       "   YearsInCurrentRole  YearsSinceLastPromotion  YearsWithCurrManager  \n",
       "0                   4                        0                     5  \n",
       "1                   7                        1                     7  \n",
       "2                   0                        0                     0  \n",
       "\n",
       "[3 rows x 26 columns]"
      ]
     },
     "execution_count": 11,
     "metadata": {},
     "output_type": "execute_result"
    }
   ],
   "source": [
    "X[con].head(3)"
   ]
  },
  {
   "cell_type": "code",
   "execution_count": 12,
   "id": "29faa550",
   "metadata": {},
   "outputs": [],
   "source": [
    "def ANOVA(df,cat,con):\n",
    "    from statsmodels.formula.api import ols\n",
    "    rel=con +\"~\"+cat\n",
    "    model=ols(rel,df).fit()\n",
    "    from statsmodels.stats.anova import anova_lm\n",
    "    anova_results=anova_lm(model)\n",
    "    return round(anova_results.iloc[0,4],4)"
   ]
  },
  {
   "cell_type": "code",
   "execution_count": 13,
   "id": "9666deea",
   "metadata": {},
   "outputs": [
    {
     "name": "stdout",
     "output_type": "stream",
     "text": [
      "-----------------------------\n",
      "-----------Attrition v/s Age -----------\n",
      "0.0\n",
      "-----------------------------\n",
      "-----------Attrition v/s DailyRate -----------\n",
      "0.0299\n",
      "-----------------------------\n",
      "-----------Attrition v/s DistanceFromHome -----------\n",
      "0.0028\n",
      "-----------------------------\n",
      "-----------Attrition v/s Education -----------\n",
      "0.2293\n",
      "-----------------------------\n",
      "-----------Attrition v/s EmployeeCount -----------\n",
      "0.1888\n",
      "-----------------------------\n",
      "-----------Attrition v/s EmployeeNumber -----------\n",
      "0.6853\n",
      "-----------------------------\n",
      "-----------Attrition v/s EnvironmentSatisfaction -----------\n",
      "0.0001\n",
      "-----------------------------\n",
      "-----------Attrition v/s HourlyRate -----------\n",
      "0.7931\n",
      "-----------------------------\n",
      "-----------Attrition v/s JobInvolvement -----------\n",
      "0.0\n",
      "-----------------------------\n",
      "-----------Attrition v/s JobLevel -----------\n",
      "0.0\n",
      "-----------------------------\n",
      "-----------Attrition v/s JobSatisfaction -----------\n",
      "0.0001\n",
      "-----------------------------\n",
      "-----------Attrition v/s MonthlyIncome -----------\n",
      "0.0\n",
      "-----------------------------\n",
      "-----------Attrition v/s MonthlyRate -----------\n",
      "0.5611\n",
      "-----------------------------\n",
      "-----------Attrition v/s NumCompaniesWorked -----------\n",
      "0.0955\n",
      "-----------------------------\n",
      "-----------Attrition v/s PercentSalaryHike -----------\n",
      "0.6056\n",
      "-----------------------------\n",
      "-----------Attrition v/s PerformanceRating -----------\n",
      "0.9119\n",
      "-----------------------------\n",
      "-----------Attrition v/s RelationshipSatisfaction -----------\n",
      "0.0787\n",
      "-----------------------------\n",
      "-----------Attrition v/s StandardHours -----------\n",
      "0.2756\n",
      "-----------------------------\n",
      "-----------Attrition v/s StockOptionLevel -----------\n",
      "0.0\n",
      "-----------------------------\n",
      "-----------Attrition v/s TotalWorkingYears -----------\n",
      "0.0\n",
      "-----------------------------\n",
      "-----------Attrition v/s TrainingTimesLastYear -----------\n",
      "0.0226\n",
      "-----------------------------\n",
      "-----------Attrition v/s WorkLifeBalance -----------\n",
      "0.0142\n",
      "-----------------------------\n",
      "-----------Attrition v/s YearsAtCompany -----------\n",
      "0.0\n",
      "-----------------------------\n",
      "-----------Attrition v/s YearsInCurrentRole -----------\n",
      "0.0\n",
      "-----------------------------\n",
      "-----------Attrition v/s YearsSinceLastPromotion -----------\n",
      "0.2058\n",
      "-----------------------------\n",
      "-----------Attrition v/s YearsWithCurrManager -----------\n",
      "0.0\n"
     ]
    }
   ],
   "source": [
    "imp_con_cols=[]\n",
    "for i in con:\n",
    "    print(\"-----------------------------\")\n",
    "    print(\"-----------Attrition v/s\",i,\"-----------\")\n",
    "    x=ANOVA(A,\"Attrition\",i)\n",
    "    print(x)\n",
    "    if(x<0.05):\n",
    "        imp_con_cols.append(i)"
   ]
  },
  {
   "cell_type": "code",
   "execution_count": 14,
   "id": "528f637e",
   "metadata": {},
   "outputs": [
    {
     "data": {
      "text/plain": [
       "['Age',\n",
       " 'DailyRate',\n",
       " 'DistanceFromHome',\n",
       " 'EnvironmentSatisfaction',\n",
       " 'JobInvolvement',\n",
       " 'JobLevel',\n",
       " 'JobSatisfaction',\n",
       " 'MonthlyIncome',\n",
       " 'StockOptionLevel',\n",
       " 'TotalWorkingYears',\n",
       " 'TrainingTimesLastYear',\n",
       " 'WorkLifeBalance',\n",
       " 'YearsAtCompany',\n",
       " 'YearsInCurrentRole',\n",
       " 'YearsWithCurrManager']"
      ]
     },
     "execution_count": 14,
     "metadata": {},
     "output_type": "execute_result"
    }
   ],
   "source": [
    "imp_con_cols"
   ]
  },
  {
   "cell_type": "code",
   "execution_count": 16,
   "id": "b65ddc92",
   "metadata": {},
   "outputs": [
    {
     "name": "stdout",
     "output_type": "stream",
     "text": [
      "-------Attrition vs BusinessTravel --------\n",
      "\n",
      "BusinessTravel  Non-Travel  Travel_Frequently  Travel_Rarely\n",
      "Attrition                                                   \n",
      "0                      138                208            887\n",
      "1                       12                 69            156\n",
      "\n",
      "\n",
      "-------Attrition vs Department --------\n",
      "\n",
      "Department  Human Resources  Research & Development  Sales\n",
      "Attrition                                                 \n",
      "0                        51                     828    354\n",
      "1                        12                     133     92\n",
      "\n",
      "\n",
      "-------Attrition vs EducationField --------\n",
      "\n",
      "EducationField  Human Resources  Life Sciences  Marketing  Medical  Other  \\\n",
      "Attrition                                                                   \n",
      "0                            20            517        124      401     71   \n",
      "1                             7             89         35       63     11   \n",
      "\n",
      "EducationField  Technical Degree  \n",
      "Attrition                         \n",
      "0                            100  \n",
      "1                             32  \n",
      "\n",
      "\n",
      "-------Attrition vs Gender --------\n",
      "\n",
      "Gender     Female  Male\n",
      "Attrition              \n",
      "0             501   732\n",
      "1              87   150\n",
      "\n",
      "\n",
      "-------Attrition vs JobRole --------\n",
      "\n",
      "JobRole    Healthcare Representative  Human Resources  Laboratory Technician  \\\n",
      "Attrition                                                                      \n",
      "0                                122               40                    197   \n",
      "1                                  9               12                     62   \n",
      "\n",
      "JobRole    Manager  Manufacturing Director  Research Director  \\\n",
      "Attrition                                                       \n",
      "0               97                     135                 78   \n",
      "1                5                      10                  2   \n",
      "\n",
      "JobRole    Research Scientist  Sales Executive  Sales Representative  \n",
      "Attrition                                                             \n",
      "0                         245              269                    50  \n",
      "1                          47               57                    33  \n",
      "\n",
      "\n",
      "-------Attrition vs MaritalStatus --------\n",
      "\n",
      "MaritalStatus  Divorced  Married  Single\n",
      "Attrition                               \n",
      "0                   294      589     350\n",
      "1                    33       84     120\n",
      "\n",
      "\n",
      "-------Attrition vs Over18 --------\n",
      "\n",
      "Over18        Y\n",
      "Attrition      \n",
      "0          1233\n",
      "1           237\n",
      "\n",
      "\n",
      "-------Attrition vs OverTime --------\n",
      "\n",
      "OverTime    No  Yes\n",
      "Attrition          \n",
      "0          944  289\n",
      "1          110  127\n",
      "\n",
      "\n"
     ]
    }
   ],
   "source": [
    "for i in cat:\n",
    "    print(\"-------Attrition vs\",i,\"--------\\n\")\n",
    "    print(pd.crosstab(A.Attrition,A[i]))\n",
    "    print(\"\\n\")"
   ]
  },
  {
   "cell_type": "code",
   "execution_count": 17,
   "id": "52e9bff1",
   "metadata": {},
   "outputs": [
    {
     "name": "stdout",
     "output_type": "stream",
     "text": [
      "BusinessTravel 0.9712\n",
      "Department 0.9871\n",
      "EducationField 1.0\n",
      "Gender 0.163\n",
      "JobRole 1.0\n",
      "MaritalStatus 0.9479\n",
      "Over18 1.0\n",
      "OverTime 0.3101\n"
     ]
    }
   ],
   "source": [
    "from scipy.stats import chi2_contingency\n",
    "for i in cat:\n",
    "    ct=pd.crosstab(A.Attrition,A[i],normalize=\"index\")\n",
    "    a,b,c,d=chi2_contingency(ct)\n",
    "    print(i,round(b,4))"
   ]
  },
  {
   "cell_type": "code",
   "execution_count": 18,
   "id": "422693a1",
   "metadata": {},
   "outputs": [],
   "source": [
    "imp_con_cols.extend([\"OverTime\",\"Gender\"])"
   ]
  },
  {
   "cell_type": "code",
   "execution_count": 19,
   "id": "7833d0d3",
   "metadata": {},
   "outputs": [
    {
     "data": {
      "text/plain": [
       "['Age',\n",
       " 'DailyRate',\n",
       " 'DistanceFromHome',\n",
       " 'EnvironmentSatisfaction',\n",
       " 'JobInvolvement',\n",
       " 'JobLevel',\n",
       " 'JobSatisfaction',\n",
       " 'MonthlyIncome',\n",
       " 'StockOptionLevel',\n",
       " 'TotalWorkingYears',\n",
       " 'TrainingTimesLastYear',\n",
       " 'WorkLifeBalance',\n",
       " 'YearsAtCompany',\n",
       " 'YearsInCurrentRole',\n",
       " 'YearsWithCurrManager',\n",
       " 'OverTime',\n",
       " 'Gender']"
      ]
     },
     "execution_count": 19,
     "metadata": {},
     "output_type": "execute_result"
    }
   ],
   "source": [
    "imp_con_cols"
   ]
  },
  {
   "cell_type": "markdown",
   "id": "7844ac3f",
   "metadata": {},
   "source": [
    "# preprocessing"
   ]
  },
  {
   "cell_type": "code",
   "execution_count": 20,
   "id": "e3b880aa",
   "metadata": {},
   "outputs": [],
   "source": [
    "from pm6 import preprocessing\n",
    "Xnew=preprocessing(X[imp_con_cols])"
   ]
  },
  {
   "cell_type": "markdown",
   "id": "cbac7f02",
   "metadata": {},
   "source": [
    "# split the data in training and testing set"
   ]
  },
  {
   "cell_type": "code",
   "execution_count": 21,
   "id": "e281d264",
   "metadata": {},
   "outputs": [],
   "source": [
    "from sklearn.model_selection import train_test_split\n",
    "xtrain,xtest,ytrain,ytest=train_test_split(Xnew,Y,test_size=0.2,random_state=21)"
   ]
  },
  {
   "cell_type": "markdown",
   "id": "93594ff7",
   "metadata": {},
   "source": [
    "# Create classification models:\n",
    "    1.Logistic regression\n",
    "    2.DTC\n",
    "    3.RF\n",
    "    4.ADC"
   ]
  },
  {
   "cell_type": "code",
   "execution_count": 35,
   "id": "26beebd1",
   "metadata": {},
   "outputs": [],
   "source": [
    "from sklearn.linear_model import LogisticRegression\n",
    "from sklearn.tree import DecisionTreeClassifier\n",
    "from sklearn.ensemble import RandomForestClassifier\n",
    "from sklearn.ensemble import AdaBoostClassifier\n",
    "from sklearn.metrics import accuracy_score"
   ]
  },
  {
   "cell_type": "code",
   "execution_count": 23,
   "id": "e9e1dcc6",
   "metadata": {},
   "outputs": [],
   "source": [
    "def model(mobj):\n",
    "    model=mobj.fit(xtrain,ytrain)\n",
    "    pred_tr=model.predict(xtrain)\n",
    "    pred_ts=model.predict(xtest)\n",
    "    tr_acc=accuracy_score(ytrain,pred_tr)\n",
    "    ts_acc=accuracy_score(ytest,pred_ts)\n",
    "    return round(tr_acc,3),round(ts_acc,3),mobj"
   ]
  },
  {
   "cell_type": "code",
   "execution_count": 24,
   "id": "829fa55d",
   "metadata": {},
   "outputs": [
    {
     "data": {
      "text/plain": [
       "(0.862, 0.878, LogisticRegression())"
      ]
     },
     "execution_count": 24,
     "metadata": {},
     "output_type": "execute_result"
    }
   ],
   "source": [
    "lr=LogisticRegression()\n",
    "model(lr)"
   ]
  },
  {
   "cell_type": "code",
   "execution_count": 25,
   "id": "9a42eeca",
   "metadata": {},
   "outputs": [],
   "source": [
    "Q=[]\n",
    "for i in range(2,20):\n",
    "    dtc=DecisionTreeClassifier(random_state=21,max_depth=i)\n",
    "    Q.append(model(dtc))"
   ]
  },
  {
   "cell_type": "code",
   "execution_count": 26,
   "id": "01110362",
   "metadata": {},
   "outputs": [
    {
     "data": {
      "text/plain": [
       "[(0.843, 0.85, DecisionTreeClassifier(max_depth=2, random_state=21)),\n",
       " (0.861, 0.864, DecisionTreeClassifier(max_depth=3, random_state=21)),\n",
       " (0.874, 0.844, DecisionTreeClassifier(max_depth=4, random_state=21)),\n",
       " (0.895, 0.847, DecisionTreeClassifier(max_depth=5, random_state=21)),\n",
       " (0.914, 0.854, DecisionTreeClassifier(max_depth=6, random_state=21)),\n",
       " (0.929, 0.84, DecisionTreeClassifier(max_depth=7, random_state=21)),\n",
       " (0.94, 0.827, DecisionTreeClassifier(max_depth=8, random_state=21)),\n",
       " (0.952, 0.786, DecisionTreeClassifier(max_depth=9, random_state=21)),\n",
       " (0.969, 0.82, DecisionTreeClassifier(max_depth=10, random_state=21)),\n",
       " (0.982, 0.806, DecisionTreeClassifier(max_depth=11, random_state=21)),\n",
       " (0.99, 0.806, DecisionTreeClassifier(max_depth=12, random_state=21)),\n",
       " (0.995, 0.793, DecisionTreeClassifier(max_depth=13, random_state=21)),\n",
       " (0.998, 0.796, DecisionTreeClassifier(max_depth=14, random_state=21)),\n",
       " (0.999, 0.796, DecisionTreeClassifier(max_depth=15, random_state=21)),\n",
       " (1.0, 0.796, DecisionTreeClassifier(max_depth=16, random_state=21)),\n",
       " (1.0, 0.796, DecisionTreeClassifier(max_depth=17, random_state=21)),\n",
       " (1.0, 0.796, DecisionTreeClassifier(max_depth=18, random_state=21)),\n",
       " (1.0, 0.796, DecisionTreeClassifier(max_depth=19, random_state=21))]"
      ]
     },
     "execution_count": 26,
     "metadata": {},
     "output_type": "execute_result"
    }
   ],
   "source": [
    "Q"
   ]
  },
  {
   "cell_type": "code",
   "execution_count": 27,
   "id": "2021a722",
   "metadata": {},
   "outputs": [],
   "source": [
    "Q=[]\n",
    "for i in range(2,20):\n",
    "    dtc=DecisionTreeClassifier(random_state=21,min_samples_leaf=i)\n",
    "    Q.append(model(dtc))"
   ]
  },
  {
   "cell_type": "code",
   "execution_count": 28,
   "id": "19b01b94",
   "metadata": {},
   "outputs": [
    {
     "data": {
      "text/plain": [
       "[(0.966, 0.827, DecisionTreeClassifier(min_samples_leaf=2, random_state=21)),\n",
       " (0.945, 0.827, DecisionTreeClassifier(min_samples_leaf=3, random_state=21)),\n",
       " (0.929, 0.83, DecisionTreeClassifier(min_samples_leaf=4, random_state=21)),\n",
       " (0.918, 0.796, DecisionTreeClassifier(min_samples_leaf=5, random_state=21)),\n",
       " (0.906, 0.813, DecisionTreeClassifier(min_samples_leaf=6, random_state=21)),\n",
       " (0.903, 0.796, DecisionTreeClassifier(min_samples_leaf=7, random_state=21)),\n",
       " (0.901, 0.806, DecisionTreeClassifier(min_samples_leaf=8, random_state=21)),\n",
       " (0.89, 0.813, DecisionTreeClassifier(min_samples_leaf=9, random_state=21)),\n",
       " (0.883, 0.816, DecisionTreeClassifier(min_samples_leaf=10, random_state=21)),\n",
       " (0.883, 0.816, DecisionTreeClassifier(min_samples_leaf=11, random_state=21)),\n",
       " (0.879, 0.813, DecisionTreeClassifier(min_samples_leaf=12, random_state=21)),\n",
       " (0.877, 0.823, DecisionTreeClassifier(min_samples_leaf=13, random_state=21)),\n",
       " (0.874, 0.83, DecisionTreeClassifier(min_samples_leaf=14, random_state=21)),\n",
       " (0.872, 0.833, DecisionTreeClassifier(min_samples_leaf=15, random_state=21)),\n",
       " (0.87, 0.83, DecisionTreeClassifier(min_samples_leaf=16, random_state=21)),\n",
       " (0.869, 0.83, DecisionTreeClassifier(min_samples_leaf=17, random_state=21)),\n",
       " (0.869, 0.83, DecisionTreeClassifier(min_samples_leaf=18, random_state=21)),\n",
       " (0.869, 0.83, DecisionTreeClassifier(min_samples_leaf=19, random_state=21))]"
      ]
     },
     "execution_count": 28,
     "metadata": {},
     "output_type": "execute_result"
    }
   ],
   "source": [
    "Q"
   ]
  },
  {
   "cell_type": "code",
   "execution_count": 29,
   "id": "b241add7",
   "metadata": {},
   "outputs": [],
   "source": [
    "Q=[]\n",
    "for i in range(2,20):\n",
    "    dtc=DecisionTreeClassifier(random_state=21,min_samples_split=i)\n",
    "    Q.append(model(dtc))"
   ]
  },
  {
   "cell_type": "code",
   "execution_count": 30,
   "id": "de0c525b",
   "metadata": {},
   "outputs": [
    {
     "data": {
      "text/plain": [
       "[(1.0, 0.796, DecisionTreeClassifier(random_state=21)),\n",
       " (0.995, 0.796, DecisionTreeClassifier(min_samples_split=3, random_state=21)),\n",
       " (0.989, 0.793, DecisionTreeClassifier(min_samples_split=4, random_state=21)),\n",
       " (0.974, 0.81, DecisionTreeClassifier(min_samples_split=5, random_state=21)),\n",
       " (0.966, 0.803, DecisionTreeClassifier(min_samples_split=6, random_state=21)),\n",
       " (0.957, 0.803, DecisionTreeClassifier(min_samples_split=7, random_state=21)),\n",
       " (0.949, 0.816, DecisionTreeClassifier(min_samples_split=8, random_state=21)),\n",
       " (0.943, 0.816, DecisionTreeClassifier(min_samples_split=9, random_state=21)),\n",
       " (0.94, 0.827, DecisionTreeClassifier(min_samples_split=10, random_state=21)),\n",
       " (0.937, 0.823, DecisionTreeClassifier(min_samples_split=11, random_state=21)),\n",
       " (0.933, 0.823, DecisionTreeClassifier(min_samples_split=12, random_state=21)),\n",
       " (0.923, 0.816, DecisionTreeClassifier(min_samples_split=13, random_state=21)),\n",
       " (0.923, 0.816, DecisionTreeClassifier(min_samples_split=14, random_state=21)),\n",
       " (0.923, 0.816, DecisionTreeClassifier(min_samples_split=15, random_state=21)),\n",
       " (0.918, 0.816, DecisionTreeClassifier(min_samples_split=16, random_state=21)),\n",
       " (0.918, 0.816, DecisionTreeClassifier(min_samples_split=17, random_state=21)),\n",
       " (0.918, 0.816, DecisionTreeClassifier(min_samples_split=18, random_state=21)),\n",
       " (0.917, 0.816, DecisionTreeClassifier(min_samples_split=19, random_state=21))]"
      ]
     },
     "execution_count": 30,
     "metadata": {},
     "output_type": "execute_result"
    }
   ],
   "source": [
    "Q"
   ]
  },
  {
   "cell_type": "code",
   "execution_count": 31,
   "id": "47bc6444",
   "metadata": {},
   "outputs": [],
   "source": [
    "Q=[]\n",
    "for i in range(2,20):\n",
    "    rfc=RandomForestClassifier(random_state=21,n_estimators=i)\n",
    "    Q.append(model(rfc))"
   ]
  },
  {
   "cell_type": "code",
   "execution_count": 32,
   "id": "d217df3c",
   "metadata": {},
   "outputs": [
    {
     "data": {
      "text/plain": [
       "[(0.93, 0.847, RandomForestClassifier(n_estimators=2, random_state=21)),\n",
       " (0.961, 0.837, RandomForestClassifier(n_estimators=3, random_state=21)),\n",
       " (0.949, 0.871, RandomForestClassifier(n_estimators=4, random_state=21)),\n",
       " (0.968, 0.857, RandomForestClassifier(n_estimators=5, random_state=21)),\n",
       " (0.957, 0.874, RandomForestClassifier(n_estimators=6, random_state=21)),\n",
       " (0.979, 0.874, RandomForestClassifier(n_estimators=7, random_state=21)),\n",
       " (0.968, 0.878, RandomForestClassifier(n_estimators=8, random_state=21)),\n",
       " (0.986, 0.878, RandomForestClassifier(n_estimators=9, random_state=21)),\n",
       " (0.98, 0.867, RandomForestClassifier(n_estimators=10, random_state=21)),\n",
       " (0.991, 0.881, RandomForestClassifier(n_estimators=11, random_state=21)),\n",
       " (0.985, 0.878, RandomForestClassifier(n_estimators=12, random_state=21)),\n",
       " (0.994, 0.874, RandomForestClassifier(n_estimators=13, random_state=21)),\n",
       " (0.99, 0.874, RandomForestClassifier(n_estimators=14, random_state=21)),\n",
       " (0.994, 0.867, RandomForestClassifier(n_estimators=15, random_state=21)),\n",
       " (0.992, 0.867, RandomForestClassifier(n_estimators=16, random_state=21)),\n",
       " (0.995, 0.867, RandomForestClassifier(n_estimators=17, random_state=21)),\n",
       " (0.993, 0.867, RandomForestClassifier(n_estimators=18, random_state=21)),\n",
       " (0.996, 0.871, RandomForestClassifier(n_estimators=19, random_state=21))]"
      ]
     },
     "execution_count": 32,
     "metadata": {},
     "output_type": "execute_result"
    }
   ],
   "source": [
    "Q"
   ]
  },
  {
   "cell_type": "code",
   "execution_count": 33,
   "id": "ef92ffc8",
   "metadata": {},
   "outputs": [],
   "source": [
    "Q=[]\n",
    "for i in range(2,20):\n",
    "    rfc=RandomForestClassifier(random_state=21,max_depth=i)\n",
    "    Q.append(model(rfc))"
   ]
  },
  {
   "cell_type": "code",
   "execution_count": 34,
   "id": "a2a4d8fe",
   "metadata": {},
   "outputs": [
    {
     "data": {
      "text/plain": [
       "[(0.843, 0.844, RandomForestClassifier(max_depth=2, random_state=21)),\n",
       " (0.853, 0.857, RandomForestClassifier(max_depth=3, random_state=21)),\n",
       " (0.866, 0.861, RandomForestClassifier(max_depth=4, random_state=21)),\n",
       " (0.878, 0.864, RandomForestClassifier(max_depth=5, random_state=21)),\n",
       " (0.895, 0.864, RandomForestClassifier(max_depth=6, random_state=21)),\n",
       " (0.92, 0.871, RandomForestClassifier(max_depth=7, random_state=21)),\n",
       " (0.934, 0.861, RandomForestClassifier(max_depth=8, random_state=21)),\n",
       " (0.953, 0.871, RandomForestClassifier(max_depth=9, random_state=21)),\n",
       " (0.969, 0.871, RandomForestClassifier(max_depth=10, random_state=21)),\n",
       " (0.984, 0.871, RandomForestClassifier(max_depth=11, random_state=21)),\n",
       " (0.991, 0.867, RandomForestClassifier(max_depth=12, random_state=21)),\n",
       " (0.995, 0.871, RandomForestClassifier(max_depth=13, random_state=21)),\n",
       " (0.998, 0.867, RandomForestClassifier(max_depth=14, random_state=21)),\n",
       " (0.999, 0.867, RandomForestClassifier(max_depth=15, random_state=21)),\n",
       " (0.999, 0.871, RandomForestClassifier(max_depth=16, random_state=21)),\n",
       " (0.999, 0.871, RandomForestClassifier(max_depth=17, random_state=21)),\n",
       " (1.0, 0.871, RandomForestClassifier(max_depth=18, random_state=21)),\n",
       " (1.0, 0.871, RandomForestClassifier(max_depth=19, random_state=21))]"
      ]
     },
     "execution_count": 34,
     "metadata": {},
     "output_type": "execute_result"
    }
   ],
   "source": [
    "Q"
   ]
  },
  {
   "cell_type": "code",
   "execution_count": 37,
   "id": "d5e3213f",
   "metadata": {},
   "outputs": [],
   "source": [
    "Q=[]\n",
    "for i in range(20,40):\n",
    "    abc=AdaBoostClassifier(DecisionTreeClassifier(max_depth=3,random_state=21),n_estimators=i)\n",
    "    Q.append(model(abc))"
   ]
  },
  {
   "cell_type": "code",
   "execution_count": 38,
   "id": "d067ae2e",
   "metadata": {},
   "outputs": [
    {
     "data": {
      "text/plain": [
       "[(0.957,\n",
       "  0.83,\n",
       "  AdaBoostClassifier(base_estimator=DecisionTreeClassifier(max_depth=3,\n",
       "                                                           random_state=21),\n",
       "                     n_estimators=20)),\n",
       " (0.96,\n",
       "  0.833,\n",
       "  AdaBoostClassifier(base_estimator=DecisionTreeClassifier(max_depth=3,\n",
       "                                                           random_state=21),\n",
       "                     n_estimators=21)),\n",
       " (0.963,\n",
       "  0.833,\n",
       "  AdaBoostClassifier(base_estimator=DecisionTreeClassifier(max_depth=3,\n",
       "                                                           random_state=21),\n",
       "                     n_estimators=22)),\n",
       " (0.97,\n",
       "  0.827,\n",
       "  AdaBoostClassifier(base_estimator=DecisionTreeClassifier(max_depth=3,\n",
       "                                                           random_state=21),\n",
       "                     n_estimators=23)),\n",
       " (0.972,\n",
       "  0.82,\n",
       "  AdaBoostClassifier(base_estimator=DecisionTreeClassifier(max_depth=3,\n",
       "                                                           random_state=21),\n",
       "                     n_estimators=24)),\n",
       " (0.976,\n",
       "  0.833,\n",
       "  AdaBoostClassifier(base_estimator=DecisionTreeClassifier(max_depth=3,\n",
       "                                                           random_state=21),\n",
       "                     n_estimators=25)),\n",
       " (0.98,\n",
       "  0.833,\n",
       "  AdaBoostClassifier(base_estimator=DecisionTreeClassifier(max_depth=3,\n",
       "                                                           random_state=21),\n",
       "                     n_estimators=26)),\n",
       " (0.984,\n",
       "  0.827,\n",
       "  AdaBoostClassifier(base_estimator=DecisionTreeClassifier(max_depth=3,\n",
       "                                                           random_state=21),\n",
       "                     n_estimators=27)),\n",
       " (0.984,\n",
       "  0.827,\n",
       "  AdaBoostClassifier(base_estimator=DecisionTreeClassifier(max_depth=3,\n",
       "                                                           random_state=21),\n",
       "                     n_estimators=28)),\n",
       " (0.986,\n",
       "  0.833,\n",
       "  AdaBoostClassifier(base_estimator=DecisionTreeClassifier(max_depth=3,\n",
       "                                                           random_state=21),\n",
       "                     n_estimators=29)),\n",
       " (0.988,\n",
       "  0.83,\n",
       "  AdaBoostClassifier(base_estimator=DecisionTreeClassifier(max_depth=3,\n",
       "                                                           random_state=21),\n",
       "                     n_estimators=30)),\n",
       " (0.991,\n",
       "  0.847,\n",
       "  AdaBoostClassifier(base_estimator=DecisionTreeClassifier(max_depth=3,\n",
       "                                                           random_state=21),\n",
       "                     n_estimators=31)),\n",
       " (0.996,\n",
       "  0.847,\n",
       "  AdaBoostClassifier(base_estimator=DecisionTreeClassifier(max_depth=3,\n",
       "                                                           random_state=21),\n",
       "                     n_estimators=32)),\n",
       " (0.993,\n",
       "  0.847,\n",
       "  AdaBoostClassifier(base_estimator=DecisionTreeClassifier(max_depth=3,\n",
       "                                                           random_state=21),\n",
       "                     n_estimators=33)),\n",
       " (0.995,\n",
       "  0.837,\n",
       "  AdaBoostClassifier(base_estimator=DecisionTreeClassifier(max_depth=3,\n",
       "                                                           random_state=21),\n",
       "                     n_estimators=34)),\n",
       " (0.993,\n",
       "  0.82,\n",
       "  AdaBoostClassifier(base_estimator=DecisionTreeClassifier(max_depth=3,\n",
       "                                                           random_state=21),\n",
       "                     n_estimators=35)),\n",
       " (0.997,\n",
       "  0.823,\n",
       "  AdaBoostClassifier(base_estimator=DecisionTreeClassifier(max_depth=3,\n",
       "                                                           random_state=21),\n",
       "                     n_estimators=36)),\n",
       " (0.997,\n",
       "  0.82,\n",
       "  AdaBoostClassifier(base_estimator=DecisionTreeClassifier(max_depth=3,\n",
       "                                                           random_state=21),\n",
       "                     n_estimators=37)),\n",
       " (0.997,\n",
       "  0.82,\n",
       "  AdaBoostClassifier(base_estimator=DecisionTreeClassifier(max_depth=3,\n",
       "                                                           random_state=21),\n",
       "                     n_estimators=38)),\n",
       " (0.997,\n",
       "  0.827,\n",
       "  AdaBoostClassifier(base_estimator=DecisionTreeClassifier(max_depth=3,\n",
       "                                                           random_state=21),\n",
       "                     n_estimators=39))]"
      ]
     },
     "execution_count": 38,
     "metadata": {},
     "output_type": "execute_result"
    }
   ],
   "source": [
    "Q"
   ]
  },
  {
   "cell_type": "code",
   "execution_count": null,
   "id": "8e36f3e2",
   "metadata": {},
   "outputs": [],
   "source": []
  }
 ],
 "metadata": {
  "kernelspec": {
   "display_name": "Python 3 (ipykernel)",
   "language": "python",
   "name": "python3"
  },
  "language_info": {
   "codemirror_mode": {
    "name": "ipython",
    "version": 3
   },
   "file_extension": ".py",
   "mimetype": "text/x-python",
   "name": "python",
   "nbconvert_exporter": "python",
   "pygments_lexer": "ipython3",
   "version": "3.8.8"
  }
 },
 "nbformat": 4,
 "nbformat_minor": 5
}
